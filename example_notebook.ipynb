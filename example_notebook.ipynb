{
 "cells": [
  {
   "cell_type": "markdown",
   "id": "2cba364f",
   "metadata": {},
   "source": [
    "# Quartz Tube + RF Coil — Example Notebook\n",
    "Run analytic temperature and thermoelastic stress, then produce safe operating maps."
   ]
  },
  {
   "cell_type": "code",
   "execution_count": null,
   "id": "80873860",
   "metadata": {},
   "outputs": [],
   "source": [
    "from src.analytic_quartz_cylinder import load_material, steady_T_profile, thermoelastic_stress_plane_strain, safe_window_example\n",
    "mat = load_material('data/material_quartz.json'); mat"
   ]
  },
  {
   "cell_type": "code",
   "execution_count": null,
   "id": "945c7f01",
   "metadata": {},
   "outputs": [],
   "source": [
    "a, t = 0.0125, 0.0025\n",
    "b = a + t\n",
    "q, h = 1.2e5, 60.0\n",
    "r, T = steady_T_profile(a, b, q_in=q, h=h, T_inf=mat['T_inf'], k=mat['k'], npts=600)\n",
    "_, _, st, _ = thermoelastic_stress_plane_strain(r, T, dict(E=mat['E'],nu=mat['nu'],alpha=mat['alpha']), a, b)\n",
    "r[:3], T[:3], st[:3]"
   ]
  },
  {
   "cell_type": "code",
   "execution_count": null,
   "id": "3717a458",
   "metadata": {},
   "outputs": [],
   "source": [
    "import matplotlib.pyplot as plt\n",
    "plt.figure(); plt.plot(r*1e3, T); plt.xlabel('r (mm)'); plt.ylabel('T (°C)'); plt.title('Temperature Profile'); plt.show()"
   ]
  },
  {
   "cell_type": "code",
   "execution_count": null,
   "id": "394f11aa",
   "metadata": {},
   "outputs": [],
   "source": [
    "plt.figure(); plt.plot(r*1e3, st/1e6); plt.xlabel('r (mm)'); plt.ylabel('σθ (MPa)'); plt.title('Hoop Stress'); plt.show()"
   ]
  },
  {
   "cell_type": "code",
   "execution_count": null,
   "id": "268d12cc",
   "metadata": {},
   "outputs": [],
   "source": [
    "QkW, H, Smax, Rpp = safe_window_example(a=a, t=t, material_json='data/material_quartz.json')\n",
    "import numpy as np\n",
    "QQ, HH = np.meshgrid(QkW, H)\n",
    "plt.figure(); cs = plt.contourf(QQ, HH, Smax, levels=12); plt.colorbar(cs, label='Max Hoop Stress (MPa)'); plt.contour(QQ, HH, Smax, levels=[Rpp], linewidths=2); plt.xlabel(\"q'' (kW/m²)\"); plt.ylabel('h (W/m²·K)'); plt.title('Safe Operating Map'); plt.show()"
   ]
  }
 ],
 "metadata": {},
 "nbformat": 4,
 "nbformat_minor": 5
}
